{
  "nbformat": 4,
  "nbformat_minor": 0,
  "metadata": {
    "colab": {
      "name": "QLearning_Mountain_Car.ipynb",
      "provenance": [],
      "collapsed_sections": []
    },
    "kernelspec": {
      "name": "python3",
      "display_name": "Python 3"
    },
    "language_info": {
      "name": "python"
    }
  },
  "cells": [
    {
      "cell_type": "code",
      "metadata": {
        "id": "Wa1sVvPq77aY"
      },
      "source": [
        "import numpy as np\n",
        "import gym\n",
        "import matplotlib.pyplot as plot"
      ],
      "execution_count": 36,
      "outputs": []
    },
    {
      "cell_type": "code",
      "metadata": {
        "colab": {
          "base_uri": "https://localhost:8080/"
        },
        "id": "T9LfnkDL8KUR",
        "outputId": "67885085-1cda-46cd-f071-3341e025fe32"
      },
      "source": [
        "env = gym.make('MountainCar-v0')\n",
        "env.reset()"
      ],
      "execution_count": 37,
      "outputs": [
        {
          "output_type": "execute_result",
          "data": {
            "text/plain": [
              "array([-0.45818234,  0.        ])"
            ]
          },
          "metadata": {},
          "execution_count": 37
        }
      ]
    },
    {
      "cell_type": "code",
      "metadata": {
        "id": "7qghs1Zr8Ot1"
      },
      "source": [
        "num_states = (env.observation_space.high - env.observation_space.low) *\\\n",
        " np.array([10, 100])\n",
        "num_states = np.round(num_states, 0).astype(int) + 1"
      ],
      "execution_count": 38,
      "outputs": []
    },
    {
      "cell_type": "code",
      "metadata": {
        "id": "9Cp7RttM9Z3h"
      },
      "source": [
        "alpha=0.1\n",
        "gamma=0.9\n",
        "total_episodes=8000\n",
        "epsilon = 0.8\n",
        "min_eps = 0\n",
        "reward_list = []\n",
        "avg_reward_list = []"
      ],
      "execution_count": 39,
      "outputs": []
    },
    {
      "cell_type": "code",
      "metadata": {
        "id": "D7e8KiYY-qoT"
      },
      "source": [
        "QTable = np.random.uniform(low=-1, high=1,\n",
        "                          size=(num_states[0], num_states[1],\n",
        "                                env.action_space.n))"
      ],
      "execution_count": 40,
      "outputs": []
    },
    {
      "cell_type": "code",
      "metadata": {
        "id": "KXcgjL6k-t66"
      },
      "source": [
        "decay_factor = (epsilon - min_eps)/total_episodes"
      ],
      "execution_count": 41,
      "outputs": []
    },
    {
      "cell_type": "code",
      "metadata": {
        "colab": {
          "base_uri": "https://localhost:8080/"
        },
        "id": "_cnoL0oB_H33",
        "outputId": "da41ce22-4e21-465f-f642-25e5032e2e24"
      },
      "source": [
        "for i in range(total_episodes):\n",
        "      done = False\n",
        "      total_reward, reward = 0, 0\n",
        "      s = env.reset()\n",
        "\n",
        "      s_adj = (s - env.observation_space.low)*np.array([10, 100])\n",
        "      s_adj = np.round(s_adj, 0).astype(int)\n",
        "\n",
        "      while done != True:\n",
        "          if np.random.random() < 1 - epsilon:\n",
        "              action = np.argmax(QTable[s_adj[0], s_adj[1]])\n",
        "          else:\n",
        "              action = np.random.randint(0, env.action_space.n)\n",
        "\n",
        "          s_prime, reward, done, info = env.step(action)\n",
        "\n",
        "          s_prime_adj = (s_prime - env.observation_space.low) * np.array([10, 100])\n",
        "          s_prime_adj = np.round(s_prime_adj, 0).astype(int)\n",
        "\n",
        "          if done and s_prime[0] >= 0.5:\n",
        "              QTable[s_adj[0], s_adj[1], action] = reward\n",
        "\n",
        "\n",
        "          else:\n",
        "              delta = alpha*(reward +\n",
        "                                gamma*np.max(QTable[s_prime_adj[0],\n",
        "                                                  s_prime_adj[1]]) -\n",
        "                                QTable[s_adj[0], s_adj[1], action])\n",
        "              QTable[s_adj[0], s_adj[1], action] += delta\n",
        "\n",
        "\n",
        "          total_reward += reward\n",
        "          s_adj = s_prime_adj\n",
        "\n",
        "      if epsilon > min_eps:\n",
        "          epsilon -= decay_factor\n",
        "\n",
        "      reward_list.append(total_reward)\n",
        "\n",
        "      if (i+1) % 100 == 0:\n",
        "          avg_reward = np.mean(reward_list)\n",
        "          avg_reward_list.append(avg_reward)\n",
        "          reward_list = []\n",
        "\n",
        "      if (i+1) % 1000 == 0:\n",
        "          print('Episode {} Average Reward: {}'.format(i+1, avg_reward))\n",
        "\n",
        "env.close()"
      ],
      "execution_count": 42,
      "outputs": [
        {
          "output_type": "stream",
          "name": "stdout",
          "text": [
            "Episode 1000 Average Reward: -200.0\n",
            "Episode 2000 Average Reward: -200.0\n",
            "Episode 3000 Average Reward: -200.0\n",
            "Episode 4000 Average Reward: -199.96\n",
            "Episode 5000 Average Reward: -199.14\n",
            "Episode 6000 Average Reward: -193.51\n",
            "Episode 7000 Average Reward: -187.94\n",
            "Episode 8000 Average Reward: -186.45\n"
          ]
        }
      ]
    },
    {
      "cell_type": "code",
      "metadata": {
        "colab": {
          "base_uri": "https://localhost:8080/",
          "height": 295
        },
        "id": "MefUi43jBUN8",
        "outputId": "1ee02a1f-1137-435e-e7a9-ac7a117de62c"
      },
      "source": [
        "plot.plot(100*(np.arange(len(avg_reward_list)) + 1), avg_reward_list)\n",
        "plot.xlabel('Episodes')\n",
        "plot.ylabel('Average Reward')\n",
        "plot.title('Average Reward vs Episodes')\n",
        "plot.show()\n",
        "plot.close()\n"
      ],
      "execution_count": 43,
      "outputs": [
        {
          "output_type": "display_data",
          "data": {
            "image/png": "[encoded data removed]",
            "text/plain": [
              "<Figure size 432x288 with 1 Axes>"
            ]
          },
          "metadata": {
            "needs_background": "light"
          }
        }
      ]
    }
  ]
}