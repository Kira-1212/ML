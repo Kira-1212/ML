{
  "nbformat": 4,
  "nbformat_minor": 0,
  "metadata": {
    "colab": {
      "name": "QLearning_Mountain_Car.ipynb",
      "provenance": [],
      "collapsed_sections": []
    },
    "kernelspec": {
      "name": "python3",
      "display_name": "Python 3"
    },
    "language_info": {
      "name": "python"
    }
  },
  "cells": [
    {
      "cell_type": "code",
      "metadata": {
        "id": "Wa1sVvPq77aY"
      },
      "source": [
        "import numpy as np\n",
        "import gym\n",
        "import matplotlib.pyplot as plt"
      ],
      "execution_count": 2,
      "outputs": []
    },
    {
      "cell_type": "code",
      "metadata": {
        "colab": {
          "base_uri": "https://localhost:8080/"
        },
        "id": "T9LfnkDL8KUR",
        "outputId": "a749e55e-cde2-4666-e1e5-328879422756"
      },
      "source": [
        "env = gym.make('MountainCar-v0')\n",
        "env.reset()"
      ],
      "execution_count": 3,
      "outputs": [
        {
          "output_type": "execute_result",
          "data": {
            "text/plain": [
              "array([-0.56255833,  0.        ])"
            ]
          },
          "metadata": {},
          "execution_count": 3
        }
      ]
    },
    {
      "cell_type": "code",
      "metadata": {
        "id": "7qghs1Zr8Ot1"
      },
      "source": [
        "num_states = (env.observation_space.high - env.observation_space.low) *\\\n",
        " np.array([10, 100])\n",
        "num_states = np.round(num_states, 0).astype(int) + 1"
      ],
      "execution_count": 11,
      "outputs": []
    },
    {
      "cell_type": "code",
      "metadata": {
        "id": "9Cp7RttM9Z3h"
      },
      "source": [
        "alpha=0.1\n",
        "gamma=0.95\n",
        "total_episodes=8000\n",
        "epsilon = 1\n",
        "min_eps = 0\n",
        "reward_list = []\n",
        "avg_reward_list = []"
      ],
      "execution_count": 28,
      "outputs": []
    },
    {
      "cell_type": "code",
      "metadata": {
        "id": "D7e8KiYY-qoT"
      },
      "source": [
        "QTable = np.random.uniform(low=-1, high=1,\n",
        "                          size=(num_states[0], num_states[1],\n",
        "                                env.action_space.n))"
      ],
      "execution_count": 14,
      "outputs": []
    },
    {
      "cell_type": "code",
      "metadata": {
        "id": "KXcgjL6k-t66"
      },
      "source": [
        "decay_factor = (epsilon - min_eps)/total_episodes"
      ],
      "execution_count": 17,
      "outputs": []
    },
    {
      "cell_type": "code",
      "metadata": {
        "colab": {
          "base_uri": "https://localhost:8080/"
        },
        "id": "_cnoL0oB_H33",
        "outputId": "4236799e-51ae-4512-bf6c-ee73b467a7cb"
      },
      "source": [
        "for i in range(total_episodes):\n",
        "      done = False\n",
        "      total_reward, reward = 0, 0\n",
        "      s = env.reset()\n",
        "\n",
        "      s_adj = (s - env.observation_space.low)*np.array([10, 100])\n",
        "      s_adj = np.round(s_adj, 0).astype(int)\n",
        "\n",
        "      while done != True:\n",
        "          if np.random.random() < 1 - epsilon:\n",
        "              action = np.argmax(QTable[s_adj[0], s_adj[1]])\n",
        "          else:\n",
        "              action = np.random.randint(0, env.action_space.n)\n",
        "\n",
        "          s_prime, reward, done, info = env.step(action)\n",
        "\n",
        "          s_prime_adj = (s_prime - env.observation_space.low) * np.array([10, 100])\n",
        "          s_prime_adj = np.round(s_prime_adj, 0).astype(int)\n",
        "\n",
        "          if done and s_prime[0] >= 0.5:\n",
        "              QTable[s_adj[0], s_adj[1], action] = reward\n",
        "\n",
        "\n",
        "          else:\n",
        "              delta = alpha*(reward +\n",
        "                                gamma*np.max(QTable[s_prime_adj[0],\n",
        "                                                  s_prime_adj[1]]) -\n",
        "                                QTable[s_adj[0], s_adj[1], action])\n",
        "              QTable[s_adj[0], s_adj[1], action] += delta\n",
        "\n",
        "\n",
        "          total_reward += reward\n",
        "          s_adj = s_prime_adj\n",
        "\n",
        "      if epsilon > min_eps:\n",
        "          epsilon -= decay_factor\n",
        "\n",
        "      reward_list.append(total_reward)\n",
        "\n",
        "      if (i+1) % 100 == 0:\n",
        "          avg_reward = np.mean(reward_list)\n",
        "          avg_reward_list.append(avg_reward)\n",
        "          reward_list = []\n",
        "\n",
        "      if (i+1) % 1000 == 0:\n",
        "          print('Episode {} Average Reward: {}'.format(i+1, avg_reward))\n",
        "\n",
        "env.close()"
      ],
      "execution_count": 29,
      "outputs": [
        {
          "output_type": "stream",
          "name": "stdout",
          "text": [
            "Episode 1000 Average Reward: -200.0\n",
            "Episode 2000 Average Reward: -200.0\n",
            "Episode 3000 Average Reward: -200.0\n",
            "Episode 4000 Average Reward: -199.34\n",
            "Episode 5000 Average Reward: -199.82\n",
            "Episode 6000 Average Reward: -189.88\n",
            "Episode 7000 Average Reward: -192.05\n",
            "Episode 8000 Average Reward: -145.96\n"
          ]
        }
      ]
    },
    {
      "cell_type": "code",
      "metadata": {
        "colab": {
          "base_uri": "https://localhost:8080/",
          "height": 295
        },
        "id": "MefUi43jBUN8",
        "outputId": "502b78ff-6a8a-463c-b0e3-c0f36fda3e9a"
      },
      "source": [
        "plt.plot(100*(np.arange(len(avg_reward_list)) + 1), avg_reward_list)\n",
        "plt.xlabel('Episodes')\n",
        "plt.ylabel('Average Reward')\n",
        "plt.title('Average Reward vs Episodes')\n",
        "plt.show()\n",
        "#plt.savefig('rewards.jpg')\n",
        "plt.close()\n"
      ],
      "execution_count": 31,
      "outputs": [
        {
          "output_type": "display_data",
          "data": {
            "image/png": "[encoded data removed]",
            "text/plain": [
              "<Figure size 432x288 with 1 Axes>"
            ]
          },
          "metadata": {
            "needs_background": "light"
          }
        }
      ]
    }
  ]
}